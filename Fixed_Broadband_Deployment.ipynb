{
 "cells": [
  {
   "cell_type": "code",
   "execution_count": 15,
   "metadata": {},
   "outputs": [],
   "source": [
    "import pandas as pd"
   ]
  },
  {
   "cell_type": "code",
   "execution_count": 49,
   "metadata": {},
   "outputs": [],
   "source": [
    "# FCC Fixed Broadband Deployment 2017 Status V1\n",
    "# https://opendata.fcc.gov/Wireline/Fixed-Broadband-Deployment-Data-June-2017-Status-V/9r8r-g7ut\n",
    "df = pd.read_json(\"https://opendata.fcc.gov/resource/s7ac-qb2r.json?\"\n",
    "                  \"blockcode=191530111141017&\"\n",
    "                  \"consumer=1\" # providers that serve consumers\n",
    "                 )"
   ]
  },
  {
   "cell_type": "code",
   "execution_count": 65,
   "metadata": {},
   "outputs": [
    {
     "data": {
      "text/plain": [
       "Index(['blockcode', 'business', 'consumer', 'dbaname', 'frn', 'hocofinal',\n",
       "       'hoconum', 'holdingcompanyname', 'logrecno', 'maxaddown', 'maxadup',\n",
       "       'maxcirdown', 'maxcirup', 'provider_id', 'providername', 'stateabbr',\n",
       "       'techcode'],\n",
       "      dtype='object')"
      ]
     },
     "execution_count": 65,
     "metadata": {},
     "output_type": "execute_result"
    }
   ],
   "source": [
    "df.columns"
   ]
  },
  {
   "cell_type": "code",
   "execution_count": 75,
   "metadata": {},
   "outputs": [
    {
     "data": {
      "text/html": [
       "<div>\n",
       "<style scoped>\n",
       "    .dataframe tbody tr th:only-of-type {\n",
       "        vertical-align: middle;\n",
       "    }\n",
       "\n",
       "    .dataframe tbody tr th {\n",
       "        vertical-align: top;\n",
       "    }\n",
       "\n",
       "    .dataframe thead th {\n",
       "        text-align: right;\n",
       "    }\n",
       "</style>\n",
       "<table border=\"1\" class=\"dataframe\">\n",
       "  <thead>\n",
       "    <tr style=\"text-align: right;\">\n",
       "      <th></th>\n",
       "      <th>providername</th>\n",
       "      <th>provider_id</th>\n",
       "      <th>techcode</th>\n",
       "    </tr>\n",
       "  </thead>\n",
       "  <tbody>\n",
       "    <tr>\n",
       "      <th>14</th>\n",
       "      <td>Brooklyn Mutual Telecommunications Cooperative</td>\n",
       "      <td>31511</td>\n",
       "      <td>10</td>\n",
       "    </tr>\n",
       "    <tr>\n",
       "      <th>30</th>\n",
       "      <td>CML Telephone Cooperative, Association of Meri...</td>\n",
       "      <td>31071</td>\n",
       "      <td>50</td>\n",
       "    </tr>\n",
       "    <tr>\n",
       "      <th>24</th>\n",
       "      <td>Central Iowa Broadband</td>\n",
       "      <td>30934</td>\n",
       "      <td>50</td>\n",
       "    </tr>\n",
       "    <tr>\n",
       "      <th>8</th>\n",
       "      <td>CenturyLink, Inc.</td>\n",
       "      <td>35460</td>\n",
       "      <td>50</td>\n",
       "    </tr>\n",
       "    <tr>\n",
       "      <th>28</th>\n",
       "      <td>CenturyLink, Inc.</td>\n",
       "      <td>35460</td>\n",
       "      <td>11</td>\n",
       "    </tr>\n",
       "    <tr>\n",
       "      <th>9</th>\n",
       "      <td>Coon Valley Co-op Telephone Association, Inc.</td>\n",
       "      <td>31553</td>\n",
       "      <td>70</td>\n",
       "    </tr>\n",
       "    <tr>\n",
       "      <th>17</th>\n",
       "      <td>Coon Valley Co-op Telephone Association, Inc.</td>\n",
       "      <td>31546</td>\n",
       "      <td>10</td>\n",
       "    </tr>\n",
       "    <tr>\n",
       "      <th>0</th>\n",
       "      <td>Cooperative Telephone Exchange</td>\n",
       "      <td>29800</td>\n",
       "      <td>50</td>\n",
       "    </tr>\n",
       "    <tr>\n",
       "      <th>25</th>\n",
       "      <td>Danville Mutual Telephone Company</td>\n",
       "      <td>31714</td>\n",
       "      <td>11</td>\n",
       "    </tr>\n",
       "    <tr>\n",
       "      <th>13</th>\n",
       "      <td>Danville Mutual Telephone Company</td>\n",
       "      <td>31714</td>\n",
       "      <td>10</td>\n",
       "    </tr>\n",
       "    <tr>\n",
       "      <th>31</th>\n",
       "      <td>Farmers &amp; Merchants Mutual Telephone Company</td>\n",
       "      <td>31624</td>\n",
       "      <td>70</td>\n",
       "    </tr>\n",
       "    <tr>\n",
       "      <th>22</th>\n",
       "      <td>Farmers &amp; Merchants Mutual Telephone Company</td>\n",
       "      <td>31624</td>\n",
       "      <td>50</td>\n",
       "    </tr>\n",
       "    <tr>\n",
       "      <th>15</th>\n",
       "      <td>Farmers Mutual Telephone Cooperative</td>\n",
       "      <td>31768</td>\n",
       "      <td>10</td>\n",
       "    </tr>\n",
       "    <tr>\n",
       "      <th>34</th>\n",
       "      <td>Goldfield Access Network</td>\n",
       "      <td>30984</td>\n",
       "      <td>20</td>\n",
       "    </tr>\n",
       "    <tr>\n",
       "      <th>27</th>\n",
       "      <td>Goldfield Access Network</td>\n",
       "      <td>30984</td>\n",
       "      <td>10</td>\n",
       "    </tr>\n",
       "    <tr>\n",
       "      <th>12</th>\n",
       "      <td>HNS License Sub, LLC</td>\n",
       "      <td>33379</td>\n",
       "      <td>60</td>\n",
       "    </tr>\n",
       "    <tr>\n",
       "      <th>33</th>\n",
       "      <td>Hawkeye Telephone Company</td>\n",
       "      <td>31005</td>\n",
       "      <td>50</td>\n",
       "    </tr>\n",
       "    <tr>\n",
       "      <th>18</th>\n",
       "      <td>Hawkeye Telephone Company</td>\n",
       "      <td>31005</td>\n",
       "      <td>10</td>\n",
       "    </tr>\n",
       "    <tr>\n",
       "      <th>11</th>\n",
       "      <td>Keystone Farmers Cooperative Telephone Company</td>\n",
       "      <td>31016</td>\n",
       "      <td>50</td>\n",
       "    </tr>\n",
       "    <tr>\n",
       "      <th>37</th>\n",
       "      <td>Louisa Communications</td>\n",
       "      <td>32456</td>\n",
       "      <td>70</td>\n",
       "    </tr>\n",
       "    <tr>\n",
       "      <th>26</th>\n",
       "      <td>Louisa Communications</td>\n",
       "      <td>32456</td>\n",
       "      <td>10</td>\n",
       "    </tr>\n",
       "    <tr>\n",
       "      <th>5</th>\n",
       "      <td>Mediacom Iowa LLC</td>\n",
       "      <td>34355</td>\n",
       "      <td>43</td>\n",
       "    </tr>\n",
       "    <tr>\n",
       "      <th>6</th>\n",
       "      <td>Mediacom Iowa LLC</td>\n",
       "      <td>34355</td>\n",
       "      <td>42</td>\n",
       "    </tr>\n",
       "    <tr>\n",
       "      <th>20</th>\n",
       "      <td>Minerva Valley Telephone Co., Inc.</td>\n",
       "      <td>32099</td>\n",
       "      <td>10</td>\n",
       "    </tr>\n",
       "    <tr>\n",
       "      <th>23</th>\n",
       "      <td>PST Digital LLC</td>\n",
       "      <td>31042</td>\n",
       "      <td>70</td>\n",
       "    </tr>\n",
       "    <tr>\n",
       "      <th>3</th>\n",
       "      <td>Rockwell Cooperative Telephone Association</td>\n",
       "      <td>30138</td>\n",
       "      <td>50</td>\n",
       "    </tr>\n",
       "    <tr>\n",
       "      <th>1</th>\n",
       "      <td>Rockwell Cooperative Telephone Association</td>\n",
       "      <td>30138</td>\n",
       "      <td>11</td>\n",
       "    </tr>\n",
       "    <tr>\n",
       "      <th>19</th>\n",
       "      <td>Schaller Telephone Company</td>\n",
       "      <td>31543</td>\n",
       "      <td>10</td>\n",
       "    </tr>\n",
       "    <tr>\n",
       "      <th>10</th>\n",
       "      <td>Shellsburg Cablevision, Inc.</td>\n",
       "      <td>31949</td>\n",
       "      <td>70</td>\n",
       "    </tr>\n",
       "    <tr>\n",
       "      <th>16</th>\n",
       "      <td>Shellsburg Cablevision, Inc.</td>\n",
       "      <td>31949</td>\n",
       "      <td>50</td>\n",
       "    </tr>\n",
       "    <tr>\n",
       "      <th>32</th>\n",
       "      <td>Shellsburg Cablevision, Inc.</td>\n",
       "      <td>31949</td>\n",
       "      <td>40</td>\n",
       "    </tr>\n",
       "    <tr>\n",
       "      <th>21</th>\n",
       "      <td>Skybeam Acquisition Corporation</td>\n",
       "      <td>34345</td>\n",
       "      <td>70</td>\n",
       "    </tr>\n",
       "    <tr>\n",
       "      <th>29</th>\n",
       "      <td>Sully Telephone Association Inc</td>\n",
       "      <td>30539</td>\n",
       "      <td>10</td>\n",
       "    </tr>\n",
       "    <tr>\n",
       "      <th>36</th>\n",
       "      <td>VSAT Systems, LLC</td>\n",
       "      <td>30279</td>\n",
       "      <td>60</td>\n",
       "    </tr>\n",
       "    <tr>\n",
       "      <th>2</th>\n",
       "      <td>Van Horne Cooperative Telephone Company</td>\n",
       "      <td>29833</td>\n",
       "      <td>50</td>\n",
       "    </tr>\n",
       "    <tr>\n",
       "      <th>7</th>\n",
       "      <td>ViaSat, Inc.</td>\n",
       "      <td>33149</td>\n",
       "      <td>60</td>\n",
       "    </tr>\n",
       "    <tr>\n",
       "      <th>4</th>\n",
       "      <td>Woolstock Mutual Telephone Association</td>\n",
       "      <td>31713</td>\n",
       "      <td>70</td>\n",
       "    </tr>\n",
       "    <tr>\n",
       "      <th>35</th>\n",
       "      <td>Woolstock Mutual Telephone Association</td>\n",
       "      <td>31713</td>\n",
       "      <td>10</td>\n",
       "    </tr>\n",
       "  </tbody>\n",
       "</table>\n",
       "</div>"
      ],
      "text/plain": [
       "                                         providername  provider_id  techcode\n",
       "14     Brooklyn Mutual Telecommunications Cooperative        31511        10\n",
       "30  CML Telephone Cooperative, Association of Meri...        31071        50\n",
       "24                             Central Iowa Broadband        30934        50\n",
       "8                                   CenturyLink, Inc.        35460        50\n",
       "28                                  CenturyLink, Inc.        35460        11\n",
       "9       Coon Valley Co-op Telephone Association, Inc.        31553        70\n",
       "17      Coon Valley Co-op Telephone Association, Inc.        31546        10\n",
       "0                      Cooperative Telephone Exchange        29800        50\n",
       "25                  Danville Mutual Telephone Company        31714        11\n",
       "13                  Danville Mutual Telephone Company        31714        10\n",
       "31       Farmers & Merchants Mutual Telephone Company        31624        70\n",
       "22       Farmers & Merchants Mutual Telephone Company        31624        50\n",
       "15               Farmers Mutual Telephone Cooperative        31768        10\n",
       "34                           Goldfield Access Network        30984        20\n",
       "27                           Goldfield Access Network        30984        10\n",
       "12                               HNS License Sub, LLC        33379        60\n",
       "33                          Hawkeye Telephone Company        31005        50\n",
       "18                          Hawkeye Telephone Company        31005        10\n",
       "11     Keystone Farmers Cooperative Telephone Company        31016        50\n",
       "37                              Louisa Communications        32456        70\n",
       "26                              Louisa Communications        32456        10\n",
       "5                                   Mediacom Iowa LLC        34355        43\n",
       "6                                   Mediacom Iowa LLC        34355        42\n",
       "20                 Minerva Valley Telephone Co., Inc.        32099        10\n",
       "23                                    PST Digital LLC        31042        70\n",
       "3          Rockwell Cooperative Telephone Association        30138        50\n",
       "1          Rockwell Cooperative Telephone Association        30138        11\n",
       "19                         Schaller Telephone Company        31543        10\n",
       "10                       Shellsburg Cablevision, Inc.        31949        70\n",
       "16                       Shellsburg Cablevision, Inc.        31949        50\n",
       "32                       Shellsburg Cablevision, Inc.        31949        40\n",
       "21                    Skybeam Acquisition Corporation        34345        70\n",
       "29                    Sully Telephone Association Inc        30539        10\n",
       "36                                  VSAT Systems, LLC        30279        60\n",
       "2             Van Horne Cooperative Telephone Company        29833        50\n",
       "7                                        ViaSat, Inc.        33149        60\n",
       "4              Woolstock Mutual Telephone Association        31713        70\n",
       "35             Woolstock Mutual Telephone Association        31713        10"
      ]
     },
     "execution_count": 75,
     "metadata": {},
     "output_type": "execute_result"
    }
   ],
   "source": [
    "df[[\"providername\", \"provider_id\", \"techcode\"]].sort_values(by=\"providername\")"
   ]
  },
  {
   "cell_type": "code",
   "execution_count": 74,
   "metadata": {},
   "outputs": [
    {
     "data": {
      "text/html": [
       "<div>\n",
       "<style scoped>\n",
       "    .dataframe tbody tr th:only-of-type {\n",
       "        vertical-align: middle;\n",
       "    }\n",
       "\n",
       "    .dataframe tbody tr th {\n",
       "        vertical-align: top;\n",
       "    }\n",
       "\n",
       "    .dataframe thead th {\n",
       "        text-align: right;\n",
       "    }\n",
       "</style>\n",
       "<table border=\"1\" class=\"dataframe\">\n",
       "  <thead>\n",
       "    <tr style=\"text-align: right;\">\n",
       "      <th></th>\n",
       "      <th>blockcode</th>\n",
       "      <th>business</th>\n",
       "      <th>consumer</th>\n",
       "      <th>dbaname</th>\n",
       "      <th>frn</th>\n",
       "      <th>hocofinal</th>\n",
       "      <th>hoconum</th>\n",
       "      <th>holdingcompanyname</th>\n",
       "      <th>logrecno</th>\n",
       "      <th>maxaddown</th>\n",
       "      <th>maxadup</th>\n",
       "      <th>maxcirdown</th>\n",
       "      <th>maxcirup</th>\n",
       "      <th>provider_id</th>\n",
       "      <th>providername</th>\n",
       "      <th>stateabbr</th>\n",
       "      <th>techcode</th>\n",
       "    </tr>\n",
       "  </thead>\n",
       "  <tbody>\n",
       "    <tr>\n",
       "      <th>9</th>\n",
       "      <td>191530111141017</td>\n",
       "      <td>1</td>\n",
       "      <td>1</td>\n",
       "      <td>Coon Valley Cooperative Telephone Association</td>\n",
       "      <td>2593358</td>\n",
       "      <td>Coon Valley Cooperative Telephone Association,...</td>\n",
       "      <td>130344</td>\n",
       "      <td>Coon Valley Cooperative Telephone Association,...</td>\n",
       "      <td>6698843</td>\n",
       "      <td>6.0</td>\n",
       "      <td>1.5</td>\n",
       "      <td>0.0</td>\n",
       "      <td>0.0</td>\n",
       "      <td>31553</td>\n",
       "      <td>Coon Valley Co-op Telephone Association, Inc.</td>\n",
       "      <td>IA</td>\n",
       "      <td>70</td>\n",
       "    </tr>\n",
       "    <tr>\n",
       "      <th>17</th>\n",
       "      <td>191530111141017</td>\n",
       "      <td>1</td>\n",
       "      <td>1</td>\n",
       "      <td>Coon Valley Cooperative Telephone Association</td>\n",
       "      <td>2593358</td>\n",
       "      <td>Coon Valley Cooperative Telephone Association,...</td>\n",
       "      <td>130344</td>\n",
       "      <td>Coon Valley Cooperative Telephone Association,...</td>\n",
       "      <td>6663348</td>\n",
       "      <td>6.0</td>\n",
       "      <td>1.5</td>\n",
       "      <td>0.0</td>\n",
       "      <td>0.0</td>\n",
       "      <td>31546</td>\n",
       "      <td>Coon Valley Co-op Telephone Association, Inc.</td>\n",
       "      <td>IA</td>\n",
       "      <td>10</td>\n",
       "    </tr>\n",
       "  </tbody>\n",
       "</table>\n",
       "</div>"
      ],
      "text/plain": [
       "          blockcode  business  consumer  \\\n",
       "9   191530111141017         1         1   \n",
       "17  191530111141017         1         1   \n",
       "\n",
       "                                          dbaname      frn  \\\n",
       "9   Coon Valley Cooperative Telephone Association  2593358   \n",
       "17  Coon Valley Cooperative Telephone Association  2593358   \n",
       "\n",
       "                                            hocofinal  hoconum  \\\n",
       "9   Coon Valley Cooperative Telephone Association,...   130344   \n",
       "17  Coon Valley Cooperative Telephone Association,...   130344   \n",
       "\n",
       "                                   holdingcompanyname  logrecno  maxaddown  \\\n",
       "9   Coon Valley Cooperative Telephone Association,...   6698843        6.0   \n",
       "17  Coon Valley Cooperative Telephone Association,...   6663348        6.0   \n",
       "\n",
       "    maxadup  maxcirdown  maxcirup  provider_id  \\\n",
       "9       1.5         0.0       0.0        31553   \n",
       "17      1.5         0.0       0.0        31546   \n",
       "\n",
       "                                     providername stateabbr  techcode  \n",
       "9   Coon Valley Co-op Telephone Association, Inc.        IA        70  \n",
       "17  Coon Valley Co-op Telephone Association, Inc.        IA        10  "
      ]
     },
     "execution_count": 74,
     "metadata": {},
     "output_type": "execute_result"
    }
   ],
   "source": [
    "df[df[\"providername\"]==\"Coon Valley Co-op Telephone Association, Inc.\"]"
   ]
  },
  {
   "cell_type": "code",
   "execution_count": 51,
   "metadata": {},
   "outputs": [
    {
     "data": {
      "text/plain": [
       "(38, 17)"
      ]
     },
     "execution_count": 51,
     "metadata": {},
     "output_type": "execute_result"
    }
   ],
   "source": [
    "df.shape"
   ]
  },
  {
   "cell_type": "code",
   "execution_count": 52,
   "metadata": {},
   "outputs": [
    {
     "data": {
      "text/plain": [
       "(24, 17)"
      ]
     },
     "execution_count": 52,
     "metadata": {},
     "output_type": "execute_result"
    }
   ],
   "source": [
    "df.groupby(\"hoconum\").nunique().shape"
   ]
  },
  {
   "cell_type": "code",
   "execution_count": 53,
   "metadata": {},
   "outputs": [
    {
     "data": {
      "text/plain": [
       "(26, 17)"
      ]
     },
     "execution_count": 53,
     "metadata": {},
     "output_type": "execute_result"
    }
   ],
   "source": [
    "df.groupby(\"frn\").nunique().shape"
   ]
  },
  {
   "cell_type": "code",
   "execution_count": 54,
   "metadata": {},
   "outputs": [
    {
     "data": {
      "text/plain": [
       "(26, 17)"
      ]
     },
     "execution_count": 54,
     "metadata": {},
     "output_type": "execute_result"
    }
   ],
   "source": [
    "df.groupby(\"providername\").nunique().shape"
   ]
  },
  {
   "cell_type": "code",
   "execution_count": 55,
   "metadata": {},
   "outputs": [
    {
     "data": {
      "text/plain": [
       "(26, 17)"
      ]
     },
     "execution_count": 55,
     "metadata": {},
     "output_type": "execute_result"
    }
   ],
   "source": [
    "df.groupby(\"dbaname\").nunique().shape"
   ]
  },
  {
   "cell_type": "code",
   "execution_count": 56,
   "metadata": {},
   "outputs": [
    {
     "data": {
      "text/plain": [
       "(24, 17)"
      ]
     },
     "execution_count": 56,
     "metadata": {},
     "output_type": "execute_result"
    }
   ],
   "source": [
    "df.groupby(\"holdingcompanyname\").nunique().shape"
   ]
  },
  {
   "cell_type": "code",
   "execution_count": 57,
   "metadata": {},
   "outputs": [
    {
     "data": {
      "text/plain": [
       "(27, 17)"
      ]
     },
     "execution_count": 57,
     "metadata": {},
     "output_type": "execute_result"
    }
   ],
   "source": [
    "df.groupby(\"provider_id\").nunique().shape"
   ]
  },
  {
   "cell_type": "code",
   "execution_count": 48,
   "metadata": {},
   "outputs": [],
   "source": [
    "# FCC Fixed Broadband Deployment 2017 Status V1\n",
    "# https://opendata.fcc.gov/Wireline/Fixed-Broadband-Deployment-Data-June-2017-Status-V/9r8r-g7ut\n",
    "df2 = pd.read_json(\"https://opendata.fcc.gov/resource/s7ac-qb2r.json?$where=dbaname%20like%20%27%25Rockwell%25%27\")"
   ]
  },
  {
   "cell_type": "code",
   "execution_count": 79,
   "metadata": {},
   "outputs": [
    {
     "data": {
      "text/html": [
       "<div>\n",
       "<style scoped>\n",
       "    .dataframe tbody tr th:only-of-type {\n",
       "        vertical-align: middle;\n",
       "    }\n",
       "\n",
       "    .dataframe tbody tr th {\n",
       "        vertical-align: top;\n",
       "    }\n",
       "\n",
       "    .dataframe thead th {\n",
       "        text-align: right;\n",
       "    }\n",
       "</style>\n",
       "<table border=\"1\" class=\"dataframe\">\n",
       "  <thead>\n",
       "    <tr style=\"text-align: right;\">\n",
       "      <th></th>\n",
       "      <th>blockcode</th>\n",
       "      <th>business</th>\n",
       "      <th>consumer</th>\n",
       "      <th>dbaname</th>\n",
       "      <th>frn</th>\n",
       "      <th>hocofinal</th>\n",
       "      <th>hoconum</th>\n",
       "      <th>holdingcompanyname</th>\n",
       "      <th>logrecno</th>\n",
       "      <th>maxaddown</th>\n",
       "      <th>maxadup</th>\n",
       "      <th>maxcirdown</th>\n",
       "      <th>maxcirup</th>\n",
       "      <th>provider_id</th>\n",
       "      <th>providername</th>\n",
       "      <th>stateabbr</th>\n",
       "      <th>techcode</th>\n",
       "    </tr>\n",
       "    <tr>\n",
       "      <th>provider_id</th>\n",
       "      <th></th>\n",
       "      <th></th>\n",
       "      <th></th>\n",
       "      <th></th>\n",
       "      <th></th>\n",
       "      <th></th>\n",
       "      <th></th>\n",
       "      <th></th>\n",
       "      <th></th>\n",
       "      <th></th>\n",
       "      <th></th>\n",
       "      <th></th>\n",
       "      <th></th>\n",
       "      <th></th>\n",
       "      <th></th>\n",
       "      <th></th>\n",
       "      <th></th>\n",
       "    </tr>\n",
       "  </thead>\n",
       "  <tbody>\n",
       "    <tr>\n",
       "      <th>30138</th>\n",
       "      <td>682</td>\n",
       "      <td>1</td>\n",
       "      <td>1</td>\n",
       "      <td>1</td>\n",
       "      <td>1</td>\n",
       "      <td>1</td>\n",
       "      <td>1</td>\n",
       "      <td>1</td>\n",
       "      <td>1000</td>\n",
       "      <td>1</td>\n",
       "      <td>1</td>\n",
       "      <td>1</td>\n",
       "      <td>1</td>\n",
       "      <td>1</td>\n",
       "      <td>1</td>\n",
       "      <td>1</td>\n",
       "      <td>2</td>\n",
       "    </tr>\n",
       "  </tbody>\n",
       "</table>\n",
       "</div>"
      ],
      "text/plain": [
       "             blockcode  business  consumer  dbaname  frn  hocofinal  hoconum  \\\n",
       "provider_id                                                                    \n",
       "30138              682         1         1        1    1          1        1   \n",
       "\n",
       "             holdingcompanyname  logrecno  maxaddown  maxadup  maxcirdown  \\\n",
       "provider_id                                                                 \n",
       "30138                         1      1000          1        1           1   \n",
       "\n",
       "             maxcirup  provider_id  providername  stateabbr  techcode  \n",
       "provider_id                                                            \n",
       "30138               1            1             1          1         2  "
      ]
     },
     "execution_count": 79,
     "metadata": {},
     "output_type": "execute_result"
    }
   ],
   "source": [
    "df2.groupby(\"provider_id\").nunique()"
   ]
  },
  {
   "cell_type": "code",
   "execution_count": 80,
   "metadata": {},
   "outputs": [
    {
     "data": {
      "text/html": [
       "<div>\n",
       "<style scoped>\n",
       "    .dataframe tbody tr th:only-of-type {\n",
       "        vertical-align: middle;\n",
       "    }\n",
       "\n",
       "    .dataframe tbody tr th {\n",
       "        vertical-align: top;\n",
       "    }\n",
       "\n",
       "    .dataframe thead th {\n",
       "        text-align: right;\n",
       "    }\n",
       "</style>\n",
       "<table border=\"1\" class=\"dataframe\">\n",
       "  <thead>\n",
       "    <tr style=\"text-align: right;\">\n",
       "      <th></th>\n",
       "      <th>blockcode</th>\n",
       "      <th>business</th>\n",
       "      <th>consumer</th>\n",
       "      <th>dbaname</th>\n",
       "      <th>frn</th>\n",
       "      <th>hocofinal</th>\n",
       "      <th>hoconum</th>\n",
       "      <th>holdingcompanyname</th>\n",
       "      <th>logrecno</th>\n",
       "      <th>maxaddown</th>\n",
       "      <th>maxadup</th>\n",
       "      <th>maxcirdown</th>\n",
       "      <th>maxcirup</th>\n",
       "      <th>provider_id</th>\n",
       "      <th>providername</th>\n",
       "      <th>stateabbr</th>\n",
       "      <th>techcode</th>\n",
       "    </tr>\n",
       "    <tr>\n",
       "      <th>frn</th>\n",
       "      <th></th>\n",
       "      <th></th>\n",
       "      <th></th>\n",
       "      <th></th>\n",
       "      <th></th>\n",
       "      <th></th>\n",
       "      <th></th>\n",
       "      <th></th>\n",
       "      <th></th>\n",
       "      <th></th>\n",
       "      <th></th>\n",
       "      <th></th>\n",
       "      <th></th>\n",
       "      <th></th>\n",
       "      <th></th>\n",
       "      <th></th>\n",
       "      <th></th>\n",
       "    </tr>\n",
       "  </thead>\n",
       "  <tbody>\n",
       "    <tr>\n",
       "      <th>3741964</th>\n",
       "      <td>682</td>\n",
       "      <td>1</td>\n",
       "      <td>1</td>\n",
       "      <td>1</td>\n",
       "      <td>1</td>\n",
       "      <td>1</td>\n",
       "      <td>1</td>\n",
       "      <td>1</td>\n",
       "      <td>1000</td>\n",
       "      <td>1</td>\n",
       "      <td>1</td>\n",
       "      <td>1</td>\n",
       "      <td>1</td>\n",
       "      <td>1</td>\n",
       "      <td>1</td>\n",
       "      <td>1</td>\n",
       "      <td>2</td>\n",
       "    </tr>\n",
       "  </tbody>\n",
       "</table>\n",
       "</div>"
      ],
      "text/plain": [
       "         blockcode  business  consumer  dbaname  frn  hocofinal  hoconum  \\\n",
       "frn                                                                        \n",
       "3741964        682         1         1        1    1          1        1   \n",
       "\n",
       "         holdingcompanyname  logrecno  maxaddown  maxadup  maxcirdown  \\\n",
       "frn                                                                     \n",
       "3741964                   1      1000          1        1           1   \n",
       "\n",
       "         maxcirup  provider_id  providername  stateabbr  techcode  \n",
       "frn                                                                \n",
       "3741964         1            1             1          1         2  "
      ]
     },
     "execution_count": 80,
     "metadata": {},
     "output_type": "execute_result"
    }
   ],
   "source": [
    "df2.groupby(\"frn\").nunique()"
   ]
  },
  {
   "cell_type": "code",
   "execution_count": null,
   "metadata": {},
   "outputs": [],
   "source": []
  }
 ],
 "metadata": {
  "kernelspec": {
   "display_name": "Python 3",
   "language": "python",
   "name": "python3"
  },
  "language_info": {
   "codemirror_mode": {
    "name": "ipython",
    "version": 3
   },
   "file_extension": ".py",
   "mimetype": "text/x-python",
   "name": "python",
   "nbconvert_exporter": "python",
   "pygments_lexer": "ipython3",
   "version": "3.6.5"
  }
 },
 "nbformat": 4,
 "nbformat_minor": 2
}
