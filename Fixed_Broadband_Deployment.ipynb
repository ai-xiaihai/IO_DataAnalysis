{
 "cells": [
  {
   "cell_type": "code",
   "execution_count": 1,
   "metadata": {},
   "outputs": [],
   "source": [
    "import pandas as pd\n",
    "import matplotlib.pyplot as plt"
   ]
  },
  {
   "cell_type": "markdown",
   "metadata": {},
   "source": [
    "Generate Summary Statistics"
   ]
  },
  {
   "cell_type": "code",
   "execution_count": 14,
   "metadata": {},
   "outputs": [],
   "source": [
    "# Information about each technology\n",
    "tech_info= {\"techcode\": [10, 11,12,20,30,40,41,42,43,50,60,70,90,0],\n",
    "            \"info\": [\"Asymetrical xDSL\", \"ADSL2\",\"VDSL\", \"Symetrical xDSL\", \n",
    "                     \"Other Copper Wireline\", \"Cable Modem\", \"Cable Modem-DOCSIS1, 1.1 and 2.0\", \n",
    "                     \"Cable Modem-DOCSIS 3.0\", \"Cable Modem-DOCSIS 3.1 \", \n",
    "                     \"Optical Carrier/Fiber to the End User \", \"Satellite \", \n",
    "                     \"Terrestrial Fixed Wireless \", \"Electric Power Line \", \"All Other\"]\n",
    "           }\n",
    "groupby_tech = pd.DataFrame.from_dict(data=tech_info)"
   ]
  },
  {
   "cell_type": "code",
   "execution_count": 15,
   "metadata": {},
   "outputs": [],
   "source": [
    "###########\n",
    "# Count of census block * providers for each techonology\n",
    "###########\n",
    "groupby_tech_count = pd.read_json(\n",
    "    \"https://opendata.fcc.gov/resource/s7ac-qb2r.json?$select=techcode,count(logrecno)&$group=techcode\")\n",
    "groupby_tech = groupby_tech.merge(groupby_tech_count, how = 'inner', on = ['techcode'])"
   ]
  },
  {
   "cell_type": "code",
   "execution_count": 16,
   "metadata": {},
   "outputs": [],
   "source": [
    "###########\n",
    "# Count of census block * consumer providers for each techonology\n",
    "###########\n",
    "groupby_tech_consumer_count = pd.read_json(\n",
    "    \"https://opendata.fcc.gov/resource/s7ac-qb2r.json?$select=techcode,count(logrecno)&$group=techcode&$where=(consumer=1)\")\n",
    "groupby_tech_consumer_count=groupby_tech_consumer_count.rename(columns={\"count_logrecno\":\"count_consumer\"})\n",
    "groupby_tech = groupby_tech.merge(groupby_tech_consumer_count, how = 'inner', on = ['techcode'])"
   ]
  },
  {
   "cell_type": "code",
   "execution_count": 18,
   "metadata": {},
   "outputs": [],
   "source": [
    "###########\n",
    "# Count of census block * business providers for each techonology\n",
    "###########\n",
    "groupby_tech_business_count = pd.read_json(\n",
    "    \"https://opendata.fcc.gov/resource/s7ac-qb2r.json?$select=techcode,count(logrecno)&$group=techcode&$where=(business=1)\")\n",
    "groupby_tech_business_count=groupby_tech_business_count.rename(columns={\"count_logrecno\":\"count_business\"})\n",
    "groupby_tech = groupby_tech.merge(groupby_tech_business_count, how = 'inner', on = ['techcode'])"
   ]
  },
  {
   "cell_type": "code",
   "execution_count": 20,
   "metadata": {},
   "outputs": [],
   "source": [
    "###########\n",
    "# Max advertised max download speed for each techonology\n",
    "###########\n",
    "groupby_tech_max_down = pd.read_json(\n",
    "    \"https://opendata.fcc.gov/resource/s7ac-qb2r.json?$select=techcode,max(maxaddown)&$group=techcode\")\n",
    "groupby_tech = groupby_tech.merge(groupby_tech_max_down, how = 'inner', on = ['techcode'])"
   ]
  },
  {
   "cell_type": "code",
   "execution_count": 21,
   "metadata": {},
   "outputs": [],
   "source": [
    "###########\n",
    "# Min advertised max download speed for each techonology\n",
    "###########\n",
    "groupby_tech_min_down = pd.read_json(\n",
    "    \"https://opendata.fcc.gov/resource/s7ac-qb2r.json?$select=techcode,min(maxaddown)&$group=techcode\")\n",
    "groupby_tech = groupby_tech.merge(groupby_tech_min_down, how = 'inner', on = ['techcode'])"
   ]
  },
  {
   "cell_type": "code",
   "execution_count": 22,
   "metadata": {},
   "outputs": [],
   "source": [
    "###########\n",
    "# Avg advertised max download speed for each techonology\n",
    "###########\n",
    "groupby_tech_avg_down = pd.read_json(\n",
    "    \"https://opendata.fcc.gov/resource/s7ac-qb2r.json?$select=techcode,avg(maxaddown)&$group=techcode\")\n",
    "groupby_tech = groupby_tech.merge(groupby_tech_avg_down, how = 'inner', on = ['techcode'])"
   ]
  },
  {
   "cell_type": "code",
   "execution_count": 23,
   "metadata": {},
   "outputs": [],
   "source": [
    "###########\n",
    "# Max advertised max upload speed for each techonology\n",
    "###########\n",
    "groupby_tech_max_up = pd.read_json(\n",
    "    \"https://opendata.fcc.gov/resource/s7ac-qb2r.json?$select=techcode,max(maxadup)&$group=techcode\")\n",
    "groupby_tech = groupby_tech.merge(groupby_tech_max_up, how = 'inner', on = ['techcode'])"
   ]
  },
  {
   "cell_type": "code",
   "execution_count": 24,
   "metadata": {},
   "outputs": [],
   "source": [
    "###########\n",
    "# Min advertised max upload speed for each techonology\n",
    "###########\n",
    "groupby_tech_min_up = pd.read_json(\n",
    "    \"https://opendata.fcc.gov/resource/s7ac-qb2r.json?$select=techcode,min(maxadup)&$group=techcode\")\n",
    "groupby_tech = groupby_tech.merge(groupby_tech_min_up, how = 'inner', on = ['techcode'])"
   ]
  },
  {
   "cell_type": "code",
   "execution_count": 25,
   "metadata": {},
   "outputs": [],
   "source": [
    "###########\n",
    "# Avg advertised max upload speed for each techonology\n",
    "###########\n",
    "groupby_tech_avg_up = pd.read_json(\n",
    "    \"https://opendata.fcc.gov/resource/s7ac-qb2r.json?$select=techcode,avg(maxadup)&$group=techcode\")\n",
    "groupby_tech = groupby_tech.merge(groupby_tech_avg_up, how = 'inner', on = ['techcode'])"
   ]
  },
  {
   "cell_type": "code",
   "execution_count": 26,
   "metadata": {},
   "outputs": [
    {
     "data": {
      "text/html": [
       "<div>\n",
       "<style scoped>\n",
       "    .dataframe tbody tr th:only-of-type {\n",
       "        vertical-align: middle;\n",
       "    }\n",
       "\n",
       "    .dataframe tbody tr th {\n",
       "        vertical-align: top;\n",
       "    }\n",
       "\n",
       "    .dataframe thead th {\n",
       "        text-align: right;\n",
       "    }\n",
       "</style>\n",
       "<table border=\"1\" class=\"dataframe\">\n",
       "  <thead>\n",
       "    <tr style=\"text-align: right;\">\n",
       "      <th></th>\n",
       "      <th>info</th>\n",
       "      <th>techcode</th>\n",
       "      <th>count_logrecno</th>\n",
       "      <th>count_consumer</th>\n",
       "      <th>count_business</th>\n",
       "      <th>max_maxaddown</th>\n",
       "      <th>min_maxaddown</th>\n",
       "      <th>avg_maxaddown</th>\n",
       "      <th>max_maxadup</th>\n",
       "      <th>min_maxadup</th>\n",
       "      <th>avg_maxadup</th>\n",
       "    </tr>\n",
       "  </thead>\n",
       "  <tbody>\n",
       "    <tr>\n",
       "      <th>0</th>\n",
       "      <td>Asymetrical xDSL</td>\n",
       "      <td>10</td>\n",
       "      <td>4332983</td>\n",
       "      <td>4216249</td>\n",
       "      <td>2411190</td>\n",
       "      <td>1000.0</td>\n",
       "      <td>0.0</td>\n",
       "      <td>9.479975</td>\n",
       "      <td>1000.0</td>\n",
       "      <td>0.0</td>\n",
       "      <td>2.262793</td>\n",
       "    </tr>\n",
       "    <tr>\n",
       "      <th>1</th>\n",
       "      <td>ADSL2</td>\n",
       "      <td>11</td>\n",
       "      <td>4063281</td>\n",
       "      <td>4057645</td>\n",
       "      <td>2132259</td>\n",
       "      <td>1000.0</td>\n",
       "      <td>0.0</td>\n",
       "      <td>13.121088</td>\n",
       "      <td>1000.0</td>\n",
       "      <td>0.0</td>\n",
       "      <td>1.798122</td>\n",
       "    </tr>\n",
       "    <tr>\n",
       "      <th>2</th>\n",
       "      <td>VDSL</td>\n",
       "      <td>12</td>\n",
       "      <td>1898022</td>\n",
       "      <td>1889296</td>\n",
       "      <td>897248</td>\n",
       "      <td>1000.0</td>\n",
       "      <td>0.0</td>\n",
       "      <td>53.864291</td>\n",
       "      <td>1000.0</td>\n",
       "      <td>0.0</td>\n",
       "      <td>11.398218</td>\n",
       "    </tr>\n",
       "    <tr>\n",
       "      <th>3</th>\n",
       "      <td>Symetrical xDSL</td>\n",
       "      <td>20</td>\n",
       "      <td>223894</td>\n",
       "      <td>88484</td>\n",
       "      <td>222319</td>\n",
       "      <td>1000.0</td>\n",
       "      <td>0.0</td>\n",
       "      <td>14.328719</td>\n",
       "      <td>1000.0</td>\n",
       "      <td>0.0</td>\n",
       "      <td>14.328719</td>\n",
       "    </tr>\n",
       "    <tr>\n",
       "      <th>4</th>\n",
       "      <td>Other Copper Wireline</td>\n",
       "      <td>30</td>\n",
       "      <td>664388</td>\n",
       "      <td>105135</td>\n",
       "      <td>663146</td>\n",
       "      <td>1000.0</td>\n",
       "      <td>0.0</td>\n",
       "      <td>5.129049</td>\n",
       "      <td>1000.0</td>\n",
       "      <td>0.0</td>\n",
       "      <td>4.482325</td>\n",
       "    </tr>\n",
       "    <tr>\n",
       "      <th>5</th>\n",
       "      <td>Cable Modem</td>\n",
       "      <td>40</td>\n",
       "      <td>103309</td>\n",
       "      <td>98616</td>\n",
       "      <td>96167</td>\n",
       "      <td>1000.0</td>\n",
       "      <td>0.0</td>\n",
       "      <td>267.537136</td>\n",
       "      <td>500.0</td>\n",
       "      <td>0.0</td>\n",
       "      <td>16.203113</td>\n",
       "    </tr>\n",
       "    <tr>\n",
       "      <th>6</th>\n",
       "      <td>Cable Modem-DOCSIS1, 1.1 and 2.0</td>\n",
       "      <td>41</td>\n",
       "      <td>112135</td>\n",
       "      <td>112074</td>\n",
       "      <td>91627</td>\n",
       "      <td>300.0</td>\n",
       "      <td>0.0</td>\n",
       "      <td>50.943762</td>\n",
       "      <td>30.0</td>\n",
       "      <td>0.0</td>\n",
       "      <td>4.623758</td>\n",
       "    </tr>\n",
       "    <tr>\n",
       "      <th>7</th>\n",
       "      <td>Cable Modem-DOCSIS 3.0</td>\n",
       "      <td>42</td>\n",
       "      <td>3989519</td>\n",
       "      <td>3938161</td>\n",
       "      <td>3674175</td>\n",
       "      <td>1000.0</td>\n",
       "      <td>0.0</td>\n",
       "      <td>267.809204</td>\n",
       "      <td>1000.0</td>\n",
       "      <td>0.0</td>\n",
       "      <td>18.031908</td>\n",
       "    </tr>\n",
       "    <tr>\n",
       "      <th>8</th>\n",
       "      <td>Cable Modem-DOCSIS 3.1</td>\n",
       "      <td>43</td>\n",
       "      <td>1832742</td>\n",
       "      <td>1761750</td>\n",
       "      <td>1832742</td>\n",
       "      <td>1000.0</td>\n",
       "      <td>0.0</td>\n",
       "      <td>602.345647</td>\n",
       "      <td>50.0</td>\n",
       "      <td>0.0</td>\n",
       "      <td>25.295867</td>\n",
       "    </tr>\n",
       "    <tr>\n",
       "      <th>9</th>\n",
       "      <td>Optical Carrier/Fiber to the End User</td>\n",
       "      <td>50</td>\n",
       "      <td>2695575</td>\n",
       "      <td>1820089</td>\n",
       "      <td>2495872</td>\n",
       "      <td>1000.0</td>\n",
       "      <td>0.0</td>\n",
       "      <td>431.378925</td>\n",
       "      <td>1000.0</td>\n",
       "      <td>0.0</td>\n",
       "      <td>357.822627</td>\n",
       "    </tr>\n",
       "    <tr>\n",
       "      <th>10</th>\n",
       "      <td>Satellite</td>\n",
       "      <td>60</td>\n",
       "      <td>42516216</td>\n",
       "      <td>31981018</td>\n",
       "      <td>40474120</td>\n",
       "      <td>25.0</td>\n",
       "      <td>0.0</td>\n",
       "      <td>10.345133</td>\n",
       "      <td>3.0</td>\n",
       "      <td>0.0</td>\n",
       "      <td>1.732933</td>\n",
       "    </tr>\n",
       "    <tr>\n",
       "      <th>11</th>\n",
       "      <td>Terrestrial Fixed Wireless</td>\n",
       "      <td>70</td>\n",
       "      <td>7736369</td>\n",
       "      <td>6862279</td>\n",
       "      <td>6915111</td>\n",
       "      <td>1000.0</td>\n",
       "      <td>0.0</td>\n",
       "      <td>25.783550</td>\n",
       "      <td>1000.0</td>\n",
       "      <td>0.0</td>\n",
       "      <td>16.618807</td>\n",
       "    </tr>\n",
       "    <tr>\n",
       "      <th>12</th>\n",
       "      <td>Electric Power Line</td>\n",
       "      <td>90</td>\n",
       "      <td>5</td>\n",
       "      <td>5</td>\n",
       "      <td>5</td>\n",
       "      <td>1.5</td>\n",
       "      <td>1.5</td>\n",
       "      <td>1.500000</td>\n",
       "      <td>1.5</td>\n",
       "      <td>1.5</td>\n",
       "      <td>1.500000</td>\n",
       "    </tr>\n",
       "    <tr>\n",
       "      <th>13</th>\n",
       "      <td>All Other</td>\n",
       "      <td>0</td>\n",
       "      <td>392</td>\n",
       "      <td>385</td>\n",
       "      <td>30</td>\n",
       "      <td>100.0</td>\n",
       "      <td>0.0</td>\n",
       "      <td>11.070153</td>\n",
       "      <td>100.0</td>\n",
       "      <td>0.0</td>\n",
       "      <td>7.010204</td>\n",
       "    </tr>\n",
       "  </tbody>\n",
       "</table>\n",
       "</div>"
      ],
      "text/plain": [
       "                                      info  techcode  count_logrecno  \\\n",
       "0                         Asymetrical xDSL        10         4332983   \n",
       "1                                    ADSL2        11         4063281   \n",
       "2                                     VDSL        12         1898022   \n",
       "3                          Symetrical xDSL        20          223894   \n",
       "4                    Other Copper Wireline        30          664388   \n",
       "5                              Cable Modem        40          103309   \n",
       "6         Cable Modem-DOCSIS1, 1.1 and 2.0        41          112135   \n",
       "7                   Cable Modem-DOCSIS 3.0        42         3989519   \n",
       "8                  Cable Modem-DOCSIS 3.1         43         1832742   \n",
       "9   Optical Carrier/Fiber to the End User         50         2695575   \n",
       "10                              Satellite         60        42516216   \n",
       "11             Terrestrial Fixed Wireless         70         7736369   \n",
       "12                    Electric Power Line         90               5   \n",
       "13                               All Other         0             392   \n",
       "\n",
       "    count_consumer  count_business  max_maxaddown  min_maxaddown  \\\n",
       "0          4216249         2411190         1000.0            0.0   \n",
       "1          4057645         2132259         1000.0            0.0   \n",
       "2          1889296          897248         1000.0            0.0   \n",
       "3            88484          222319         1000.0            0.0   \n",
       "4           105135          663146         1000.0            0.0   \n",
       "5            98616           96167         1000.0            0.0   \n",
       "6           112074           91627          300.0            0.0   \n",
       "7          3938161         3674175         1000.0            0.0   \n",
       "8          1761750         1832742         1000.0            0.0   \n",
       "9          1820089         2495872         1000.0            0.0   \n",
       "10        31981018        40474120           25.0            0.0   \n",
       "11         6862279         6915111         1000.0            0.0   \n",
       "12               5               5            1.5            1.5   \n",
       "13             385              30          100.0            0.0   \n",
       "\n",
       "    avg_maxaddown  max_maxadup  min_maxadup  avg_maxadup  \n",
       "0        9.479975       1000.0          0.0     2.262793  \n",
       "1       13.121088       1000.0          0.0     1.798122  \n",
       "2       53.864291       1000.0          0.0    11.398218  \n",
       "3       14.328719       1000.0          0.0    14.328719  \n",
       "4        5.129049       1000.0          0.0     4.482325  \n",
       "5      267.537136        500.0          0.0    16.203113  \n",
       "6       50.943762         30.0          0.0     4.623758  \n",
       "7      267.809204       1000.0          0.0    18.031908  \n",
       "8      602.345647         50.0          0.0    25.295867  \n",
       "9      431.378925       1000.0          0.0   357.822627  \n",
       "10      10.345133          3.0          0.0     1.732933  \n",
       "11      25.783550       1000.0          0.0    16.618807  \n",
       "12       1.500000          1.5          1.5     1.500000  \n",
       "13      11.070153        100.0          0.0     7.010204  "
      ]
     },
     "execution_count": 26,
     "metadata": {},
     "output_type": "execute_result"
    }
   ],
   "source": [
    "groupby_tech"
   ]
  },
  {
   "cell_type": "code",
   "execution_count": 27,
   "metadata": {},
   "outputs": [],
   "source": [
    "groupby_tech.to_csv(\"groupby_tech.csv\")"
   ]
  },
  {
   "cell_type": "code",
   "execution_count": 16,
   "metadata": {},
   "outputs": [],
   "source": [
    "c43 = pd.read_json(\n",
    "    \"https://opendata.fcc.gov/resource/s7ac-qb2r.json?$select=maxaddown,maxadup&techcode=43&consumer=1&$limit=2000000\")"
   ]
  },
  {
   "cell_type": "code",
   "execution_count": 22,
   "metadata": {},
   "outputs": [
    {
     "data": {
      "text/plain": [
       "13"
      ]
     },
     "execution_count": 22,
     "metadata": {},
     "output_type": "execute_result"
    }
   ],
   "source": [
    "c43[\"maxaddown\"].nunique()"
   ]
  },
  {
   "cell_type": "code",
   "execution_count": 23,
   "metadata": {},
   "outputs": [
    {
     "data": {
      "text/plain": [
       "9"
      ]
     },
     "execution_count": 23,
     "metadata": {},
     "output_type": "execute_result"
    }
   ],
   "source": [
    "c43[\"maxadup\"].nunique()"
   ]
  },
  {
   "cell_type": "code",
   "execution_count": 32,
   "metadata": {},
   "outputs": [
    {
     "data": {
      "text/plain": [
       "25         387\n",
       "50         290\n",
       "75       11698\n",
       "100         34\n",
       "105       3707\n",
       "150     193153\n",
       "200     371151\n",
       "250      86482\n",
       "300       7435\n",
       "400     170130\n",
       "500        273\n",
       "987     738665\n",
       "1000    178345\n",
       "Name: maxaddown, dtype: int64"
      ]
     },
     "execution_count": 32,
     "metadata": {},
     "output_type": "execute_result"
    }
   ],
   "source": [
    "c43[\"maxaddown\"].value_counts(sort=False)"
   ]
  },
  {
   "cell_type": "code",
   "execution_count": 31,
   "metadata": {},
   "outputs": [
    {
     "data": {
      "text/plain": [
       "3        159\n",
       "4        340\n",
       "5         47\n",
       "10    566607\n",
       "15       228\n",
       "20    185855\n",
       "25     94190\n",
       "35    739921\n",
       "50    174403\n",
       "Name: maxadup, dtype: int64"
      ]
     },
     "execution_count": 31,
     "metadata": {},
     "output_type": "execute_result"
    }
   ],
   "source": [
    "c43[\"maxadup\"].value_counts(sort=False)"
   ]
  },
  {
   "cell_type": "code",
   "execution_count": 34,
   "metadata": {},
   "outputs": [],
   "source": [
    "c42 = pd.read_json(\n",
    "    \"https://opendata.fcc.gov/resource/s7ac-qb2r.json?$select=maxaddown,maxadup&techcode=42&consumer=1&$limit=4000000\")"
   ]
  },
  {
   "cell_type": "code",
   "execution_count": 36,
   "metadata": {},
   "outputs": [
    {
     "data": {
      "text/plain": [
       "52"
      ]
     },
     "execution_count": 36,
     "metadata": {},
     "output_type": "execute_result"
    }
   ],
   "source": [
    "c42[\"maxaddown\"].nunique()"
   ]
  },
  {
   "cell_type": "code",
   "execution_count": 37,
   "metadata": {},
   "outputs": [
    {
     "data": {
      "text/plain": [
       "29"
      ]
     },
     "execution_count": 37,
     "metadata": {},
     "output_type": "execute_result"
    }
   ],
   "source": [
    "c42[\"maxadup\"].nunique()"
   ]
  },
  {
   "cell_type": "code",
   "execution_count": 42,
   "metadata": {},
   "outputs": [
    {
     "data": {
      "text/plain": [
       "0.768           256\n",
       "1.000          2781\n",
       "1.500            43\n",
       "2.000            39\n",
       "3.000          7184\n",
       "4.000          1283\n",
       "5.000          2270\n",
       "6.000          1527\n",
       "7.000             2\n",
       "8.000           816\n",
       "9.000             1\n",
       "10.000         7369\n",
       "11.000          657\n",
       "12.000         1961\n",
       "14.000          542\n",
       "15.000        15263\n",
       "16.000         1358\n",
       "17.000            3\n",
       "20.000         9758\n",
       "22.000         1024\n",
       "24.000         6312\n",
       "25.000        13891\n",
       "30.000        16083\n",
       "35.000           51\n",
       "40.000         9052\n",
       "50.000       117297\n",
       "51.000         2444\n",
       "60.000         3494\n",
       "64.000            1\n",
       "70.000          150\n",
       "75.000        10929\n",
       "80.000         1226\n",
       "90.000         1191\n",
       "100.000     1064944\n",
       "101.000       16512\n",
       "105.000       16101\n",
       "107.000          16\n",
       "110.000        3727\n",
       "120.000      110382\n",
       "125.000         216\n",
       "150.000      157046\n",
       "200.000      160220\n",
       "250.000       27019\n",
       "300.000     1560821\n",
       "320.000         988\n",
       "330.000       43216\n",
       "350.000        2130\n",
       "400.000      183956\n",
       "500.000        2460\n",
       "600.000       92926\n",
       "900.000         403\n",
       "1000.000     258820\n",
       "Name: maxaddown, dtype: int64"
      ]
     },
     "execution_count": 42,
     "metadata": {},
     "output_type": "execute_result"
    }
   ],
   "source": [
    "c42[\"maxaddown\"].value_counts().sort_index()"
   ]
  },
  {
   "cell_type": "code",
   "execution_count": 43,
   "metadata": {},
   "outputs": [
    {
     "data": {
      "text/plain": [
       "0.250            57\n",
       "0.256          2757\n",
       "0.384            36\n",
       "0.512          7258\n",
       "0.768          3929\n",
       "1.000         10465\n",
       "1.300           900\n",
       "1.500         16145\n",
       "2.000         32239\n",
       "3.000         23587\n",
       "4.000         64439\n",
       "5.000        730872\n",
       "6.000          3826\n",
       "7.000         40734\n",
       "8.000           538\n",
       "9.000             6\n",
       "10.000       816363\n",
       "12.000            1\n",
       "15.000        44079\n",
       "20.000      1327705\n",
       "25.000        29698\n",
       "30.000       288428\n",
       "35.000       165956\n",
       "40.000        92926\n",
       "50.000       232665\n",
       "60.000          403\n",
       "64.000            1\n",
       "100.000         633\n",
       "1000.000       1515\n",
       "Name: maxadup, dtype: int64"
      ]
     },
     "execution_count": 43,
     "metadata": {},
     "output_type": "execute_result"
    }
   ],
   "source": [
    "c42[\"maxadup\"].value_counts().sort_index()"
   ]
  },
  {
   "cell_type": "code",
   "execution_count": null,
   "metadata": {},
   "outputs": [],
   "source": []
  }
 ],
 "metadata": {
  "kernelspec": {
   "display_name": "Python 3",
   "language": "python",
   "name": "python3"
  },
  "language_info": {
   "codemirror_mode": {
    "name": "ipython",
    "version": 3
   },
   "file_extension": ".py",
   "mimetype": "text/x-python",
   "name": "python",
   "nbconvert_exporter": "python",
   "pygments_lexer": "ipython3",
   "version": "3.6.5"
  }
 },
 "nbformat": 4,
 "nbformat_minor": 2
}
