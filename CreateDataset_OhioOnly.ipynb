{
 "cells": [
  {
   "cell_type": "code",
   "execution_count": 1,
   "metadata": {},
   "outputs": [],
   "source": [
    "import pandas as pd\n",
    "import numpy as np"
   ]
  },
  {
   "cell_type": "code",
   "execution_count": 2,
   "metadata": {},
   "outputs": [],
   "source": [
    "# grab all unique providers \n",
    "provider_OH = pd.read_json(\"https://opendata.fcc.gov/resource/s7ac-qb2r.json?\"\n",
    "                           \"$select=logrecno,provider_id,hoconum,blockcode,techcode,maxaddown,maxadup\"\n",
    "                           \"&consumer=1&stateabbr='OH'&$limit=5000000\"\n",
    "                          )"
   ]
  },
  {
   "cell_type": "code",
   "execution_count": 3,
   "metadata": {},
   "outputs": [],
   "source": [
    "# add census tract code\n",
    "provider_OH[\"tract\"]=provider_OH[\"blockcode\"]//10000"
   ]
  },
  {
   "cell_type": "code",
   "execution_count": 6,
   "metadata": {},
   "outputs": [
    {
     "name": "stdout",
     "output_type": "stream",
     "text": [
      "121\n",
      "100\n"
     ]
    }
   ],
   "source": [
    "# number of unique providers/holding companies in the state of ohio \n",
    "print(provider_OH[\"provider_id\"].nunique(),)\n",
    "print(provider_OH[\"hoconum\"].nunique(),)"
   ]
  },
  {
   "cell_type": "code",
   "execution_count": 4,
   "metadata": {},
   "outputs": [],
   "source": [
    "# count num of providers in each tract\n",
    "df_tract_provider_count = provider_OH.groupby([\"tract\", \"provider_id\"]).count()\n",
    "provider_count = df_tract_provider_count.groupby(\"tract\")[\"blockcode\"].count()"
   ]
  },
  {
   "cell_type": "code",
   "execution_count": 5,
   "metadata": {},
   "outputs": [],
   "source": [
    "# count num of providers data processing\n",
    "new = provider_count.to_frame()\n",
    "new[\"GEO.id2\"]=new.index\n",
    "new = new.rename(columns={\"blockcode\":\"provider_count\"})"
   ]
  },
  {
   "cell_type": "code",
   "execution_count": 6,
   "metadata": {},
   "outputs": [],
   "source": [
    "# count num of holding companies in each tract\n",
    "df_tract_holding_count = provider_OH.groupby([\"tract\", \"hoconum\"]).count()\n",
    "holding_count = df_tract_holding_count.groupby(\"tract\")[\"blockcode\"].count()"
   ]
  },
  {
   "cell_type": "code",
   "execution_count": 7,
   "metadata": {},
   "outputs": [],
   "source": [
    "# count num of providers data processing\n",
    "new2 = holding_count.to_frame()\n",
    "new2[\"GEO.id2\"]=new2.index\n",
    "new2 = new2.rename(columns={\"blockcode\":\"holding_count\"})"
   ]
  },
  {
   "cell_type": "code",
   "execution_count": 8,
   "metadata": {},
   "outputs": [],
   "source": [
    "census_info = pd.read_csv(\"/Users/xcheng/Documents/Oberlin/2019Fall/Econ417/IO_DataAnalysis/census_track_ACS_16_OH.csv\")"
   ]
  },
  {
   "cell_type": "code",
   "execution_count": 9,
   "metadata": {},
   "outputs": [
    {
     "name": "stdout",
     "output_type": "stream",
     "text": [
      "2952\n",
      "2952\n",
      "2952\n"
     ]
    }
   ],
   "source": [
    "###########\n",
    "# Verify count\n",
    "###########\n",
    "print(len(set(new['GEO.id2']) & set(census_info['GEO.id2'])))\n",
    "print(len(set(new['GEO.id2'])))\n",
    "print(len(set(census_info['GEO.id2'])))"
   ]
  },
  {
   "cell_type": "code",
   "execution_count": 10,
   "metadata": {},
   "outputs": [],
   "source": [
    "# add in the provider count & holding count\n",
    "census_info = census_info.merge(new, on=\"GEO.id2\")\n",
    "census_info = census_info.merge(new2, on=\"GEO.id2\")"
   ]
  },
  {
   "cell_type": "code",
   "execution_count": 11,
   "metadata": {},
   "outputs": [],
   "source": [
    "# census_info.to_csv(\"simple_combined.csv\")"
   ]
  },
  {
   "cell_type": "code",
   "execution_count": 12,
   "metadata": {},
   "outputs": [],
   "source": [
    "# one line for one provider that provides tech 10 in this census tract\n",
    "# maxaddown and maxadup are average accross all census block where it provides tech 10 \n",
    "df_individual = provider_OH[provider_OH['techcode']==10].groupby([\"tract\", \"provider_id\"]).mean()"
   ]
  },
  {
   "cell_type": "code",
   "execution_count": 13,
   "metadata": {},
   "outputs": [],
   "source": [
    "df_individual.reset_index(inplace=True) "
   ]
  },
  {
   "cell_type": "code",
   "execution_count": 14,
   "metadata": {},
   "outputs": [],
   "source": [
    "df_individual = df_individual[[\"tract\", \"provider_id\", \"maxaddown\", \"maxadup\"]]"
   ]
  },
  {
   "cell_type": "code",
   "execution_count": 20,
   "metadata": {},
   "outputs": [],
   "source": [
    "final = pd.merge(df_individual, census_info, left_on=\"tract\", right_on=\"GEO.id2\")"
   ]
  },
  {
   "cell_type": "code",
   "execution_count": 22,
   "metadata": {},
   "outputs": [],
   "source": [
    "final = final[final['population']>50]"
   ]
  },
  {
   "cell_type": "code",
   "execution_count": 23,
   "metadata": {},
   "outputs": [],
   "source": [
    "final.to_csv(\"finally_ready.csv\")"
   ]
  },
  {
   "cell_type": "code",
   "execution_count": null,
   "metadata": {},
   "outputs": [],
   "source": []
  }
 ],
 "metadata": {
  "kernelspec": {
   "display_name": "Python 3",
   "language": "python",
   "name": "python3"
  },
  "language_info": {
   "codemirror_mode": {
    "name": "ipython",
    "version": 3
   },
   "file_extension": ".py",
   "mimetype": "text/x-python",
   "name": "python",
   "nbconvert_exporter": "python",
   "pygments_lexer": "ipython3",
   "version": "3.6.5"
  }
 },
 "nbformat": 4,
 "nbformat_minor": 2
}
