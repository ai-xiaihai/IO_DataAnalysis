{
 "cells": [
  {
   "cell_type": "code",
   "execution_count": 1,
   "metadata": {},
   "outputs": [],
   "source": [
    "import pandas as pd\n",
    "import numpy as np"
   ]
  },
  {
   "cell_type": "code",
   "execution_count": 26,
   "metadata": {},
   "outputs": [],
   "source": [
    "# grab all unique blockcodes\n",
    "blockcodes = pd.read_json(\"https://opendata.fcc.gov/resource/s7ac-qb2r.json?\"\n",
    "                          \"$select=blockcode&$group=blockcode&$where=(consumer=1)AND(techcode=50)\"\n",
    "                          \"&$limit=25000000\")"
   ]
  },
  {
   "cell_type": "code",
   "execution_count": 27,
   "metadata": {},
   "outputs": [
    {
     "data": {
      "text/plain": [
       "1732905"
      ]
     },
     "execution_count": 27,
     "metadata": {},
     "output_type": "execute_result"
    }
   ],
   "source": [
    "len(blockcodes)"
   ]
  },
  {
   "cell_type": "code",
   "execution_count": 30,
   "metadata": {},
   "outputs": [],
   "source": [
    "sample = np.random.choice(blockcodes[\"blockcode\"], size=20000, replace=False)"
   ]
  },
  {
   "cell_type": "code",
   "execution_count": null,
   "metadata": {},
   "outputs": [],
   "source": [
    "np.savetxt(\"block_sample_tech50.csv\", sample, delimiter=\",\")"
   ]
  },
  {
   "cell_type": "code",
   "execution_count": 4,
   "metadata": {},
   "outputs": [],
   "source": [
    "# grab all unique blockcodes\n",
    "# where at least one ISP offer cable 3.0 (techcode: 42) to consumers\n",
    "blockcodes_42c = pd.read_json(\"https://opendata.fcc.gov/resource/s7ac-qb2r.json?\"\n",
    "                          \"$select=blockcode&$group=blockcode&$where=(consumer=1)AND(techcode=42)\"\n",
    "                          \"&$limit=25000000\")"
   ]
  },
  {
   "cell_type": "code",
   "execution_count": 5,
   "metadata": {},
   "outputs": [],
   "source": [
    "sample_42c = np.random.choice(blockcodes_42c[\"blockcode\"], size=20000, replace=False)\n",
    "np.savetxt(\"block_sample_tech42_v2.csv\", sample_42c, delimiter=\",\", fmt=\"%s\")"
   ]
  }
 ],
 "metadata": {
  "kernelspec": {
   "display_name": "Python 3",
   "language": "python",
   "name": "python3"
  },
  "language_info": {
   "codemirror_mode": {
    "name": "ipython",
    "version": 3
   },
   "file_extension": ".py",
   "mimetype": "text/x-python",
   "name": "python",
   "nbconvert_exporter": "python",
   "pygments_lexer": "ipython3",
   "version": "3.6.5"
  }
 },
 "nbformat": 4,
 "nbformat_minor": 2
}
