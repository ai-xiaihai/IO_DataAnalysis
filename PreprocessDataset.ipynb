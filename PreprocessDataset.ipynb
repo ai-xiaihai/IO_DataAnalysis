{
 "cells": [
  {
   "cell_type": "code",
   "execution_count": 1,
   "metadata": {},
   "outputs": [],
   "source": [
    "import pandas as pd\n",
    "import matplotlib.pyplot as plt\n",
    "import numpy as np"
   ]
  },
  {
   "cell_type": "code",
   "execution_count": 2,
   "metadata": {},
   "outputs": [],
   "source": [
    "blockcodes_42 = np.loadtxt(\"block_sample_tech42.csv\", dtype=str)"
   ]
  },
  {
   "cell_type": "code",
   "execution_count": 5,
   "metadata": {},
   "outputs": [
    {
     "ename": "SyntaxError",
     "evalue": "unexpected EOF while parsing (<ipython-input-5-756d36ea37b3>, line 2)",
     "output_type": "error",
     "traceback": [
      "\u001b[0;36m  File \u001b[0;32m\"<ipython-input-5-756d36ea37b3>\"\u001b[0;36m, line \u001b[0;32m2\u001b[0m\n\u001b[0;31m    \u001b[0m\n\u001b[0m    ^\u001b[0m\n\u001b[0;31mSyntaxError\u001b[0m\u001b[0;31m:\u001b[0m unexpected EOF while parsing\n"
     ]
    }
   ],
   "source": [
    "# Process data set for one blockcode\n",
    "for blockcode in blockcodes_42:\n",
    "    # fetch data\n",
    "    \n",
    "    # choose one provider with tech 42\n",
    "    \n",
    "    # count number of ISP's offering speed within 10% diff, 50% diff, 100% diff, 200% diff\n",
    "    # 10% diff: [speed/1.1, speed*1.1]\n",
    "    \n",
    "    # count number of different holding companies w/ ISP's offering ..."
   ]
  },
  {
   "cell_type": "code",
   "execution_count": 3,
   "metadata": {},
   "outputs": [],
   "source": [
    "blockcode = blockcodes_42[0]"
   ]
  },
  {
   "cell_type": "code",
   "execution_count": 4,
   "metadata": {},
   "outputs": [],
   "source": [
    "# fetch data\n",
    "df_one = pd.read_json(\"https://opendata.fcc.gov/resource/s7ac-qb2r.json?\"+\n",
    "             \"consumer=1\"+\n",
    "             \"&blockcode=\"+blockcode)"
   ]
  },
  {
   "cell_type": "code",
   "execution_count": 5,
   "metadata": {},
   "outputs": [],
   "source": [
    "# choose one provider with tech 42\n",
    "chosen = df_one[df_one[\"techcode\"]==42].sample(n=1)"
   ]
  },
  {
   "cell_type": "code",
   "execution_count": 18,
   "metadata": {},
   "outputs": [],
   "source": [
    "chosen_up = chosen[\"maxadup\"].squeeze()\n",
    "chosen_down = chosen[\"maxaddown\"].squeeze()\n",
    "chosen_isp = chosen[\"provider_id\"].squeeze()\n",
    "chosen_holder = chosen[\"hoconum\"].squeeze()"
   ]
  },
  {
   "cell_type": "code",
   "execution_count": 27,
   "metadata": {},
   "outputs": [
    {
     "name": "stdout",
     "output_type": "stream",
     "text": [
      "maxadup 1.1 0\n",
      "maxadup 1.5 0\n",
      "maxadup 2 1\n",
      "maxadup 3 1\n",
      "maxadup 4 1\n",
      "maxaddown 1.1 0\n",
      "maxaddown 1.5 0\n",
      "maxaddown 2 1\n",
      "maxaddown 3 1\n",
      "maxaddown 4 1\n"
     ]
    }
   ],
   "source": [
    "# count number of ISP's offering speed within 10% diff, 50% diff, 100% diff, 200% diff\n",
    "for direction in [\"maxadup\", \"maxaddown\"]:\n",
    "    for ratio in [1.1, 1.5, 2, 3, 4]:\n",
    "        print(direction, ratio, \n",
    "              df_one[(df_one[\"maxadup\"]>chosen_up/ratio) & # lower speed bound\n",
    "                     (df_one[\"maxadup\"]<chosen_up*ratio) # upper speed bound\n",
    "                    ][\"provider_id\"].nunique()-1 # num of unique provider_id excluding urself\n",
    "                 )"
   ]
  },
  {
   "cell_type": "code",
   "execution_count": 11,
   "metadata": {},
   "outputs": [
    {
     "data": {
      "text/html": [
       "<div>\n",
       "<style scoped>\n",
       "    .dataframe tbody tr th:only-of-type {\n",
       "        vertical-align: middle;\n",
       "    }\n",
       "\n",
       "    .dataframe tbody tr th {\n",
       "        vertical-align: top;\n",
       "    }\n",
       "\n",
       "    .dataframe thead th {\n",
       "        text-align: right;\n",
       "    }\n",
       "</style>\n",
       "<table border=\"1\" class=\"dataframe\">\n",
       "  <thead>\n",
       "    <tr style=\"text-align: right;\">\n",
       "      <th></th>\n",
       "      <th>blockcode</th>\n",
       "      <th>business</th>\n",
       "      <th>consumer</th>\n",
       "      <th>dbaname</th>\n",
       "      <th>frn</th>\n",
       "      <th>hocofinal</th>\n",
       "      <th>hoconum</th>\n",
       "      <th>holdingcompanyname</th>\n",
       "      <th>logrecno</th>\n",
       "      <th>maxaddown</th>\n",
       "      <th>maxadup</th>\n",
       "      <th>maxcirdown</th>\n",
       "      <th>maxcirup</th>\n",
       "      <th>provider_id</th>\n",
       "      <th>providername</th>\n",
       "      <th>stateabbr</th>\n",
       "      <th>techcode</th>\n",
       "    </tr>\n",
       "  </thead>\n",
       "  <tbody>\n",
       "    <tr>\n",
       "      <th>10</th>\n",
       "      <td>484391045053024</td>\n",
       "      <td>1</td>\n",
       "      <td>1</td>\n",
       "      <td>Charter Communications Inc</td>\n",
       "      <td>25646373</td>\n",
       "      <td>Charter Communications</td>\n",
       "      <td>130235</td>\n",
       "      <td>Charter Communications</td>\n",
       "      <td>12564972</td>\n",
       "      <td>300.0</td>\n",
       "      <td>20.0</td>\n",
       "      <td>0.0</td>\n",
       "      <td>0.0</td>\n",
       "      <td>32487</td>\n",
       "      <td>Charter Communications, Inc.</td>\n",
       "      <td>TX</td>\n",
       "      <td>42</td>\n",
       "    </tr>\n",
       "  </tbody>\n",
       "</table>\n",
       "</div>"
      ],
      "text/plain": [
       "          blockcode  business  consumer                     dbaname       frn  \\\n",
       "10  484391045053024         1         1  Charter Communications Inc  25646373   \n",
       "\n",
       "                 hocofinal  hoconum      holdingcompanyname  logrecno  \\\n",
       "10  Charter Communications   130235  Charter Communications  12564972   \n",
       "\n",
       "    maxaddown  maxadup  maxcirdown  maxcirup  provider_id  \\\n",
       "10      300.0     20.0         0.0       0.0        32487   \n",
       "\n",
       "                    providername stateabbr  techcode  \n",
       "10  Charter Communications, Inc.        TX        42  "
      ]
     },
     "execution_count": 11,
     "metadata": {},
     "output_type": "execute_result"
    }
   ],
   "source": [
    "chosen"
   ]
  },
  {
   "cell_type": "code",
   "execution_count": null,
   "metadata": {},
   "outputs": [],
   "source": [
    "# count number of different holding companies w/ ISP's offering ..."
   ]
  }
 ],
 "metadata": {
  "kernelspec": {
   "display_name": "Python 3",
   "language": "python",
   "name": "python3"
  },
  "language_info": {
   "codemirror_mode": {
    "name": "ipython",
    "version": 3
   },
   "file_extension": ".py",
   "mimetype": "text/x-python",
   "name": "python",
   "nbconvert_exporter": "python",
   "pygments_lexer": "ipython3",
   "version": "3.6.5"
  }
 },
 "nbformat": 4,
 "nbformat_minor": 2
}
