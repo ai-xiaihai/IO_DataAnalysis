{
 "cells": [
  {
   "cell_type": "code",
   "execution_count": 2,
   "metadata": {},
   "outputs": [],
   "source": [
    "import pandas as pd\n",
    "import numpy as np"
   ]
  },
  {
   "cell_type": "markdown",
   "metadata": {},
   "source": [
    "# Age related information"
   ]
  },
  {
   "cell_type": "code",
   "execution_count": 3,
   "metadata": {},
   "outputs": [],
   "source": [
    "age = pd.read_csv(\"/Users/xcheng/Documents/Oberlin/2019Fall/Econ417/myresearch/\"\n",
    "                  +\"OH_track_age_16_ACS/ACS_16_5YR_S0101_with_ann.csv\")"
   ]
  },
  {
   "cell_type": "code",
   "execution_count": 4,
   "metadata": {},
   "outputs": [],
   "source": [
    "age.drop(0, inplace=True)"
   ]
  },
  {
   "cell_type": "code",
   "execution_count": 5,
   "metadata": {},
   "outputs": [],
   "source": [
    "age.set_index(\"GEO.id2\", inplace = True) # let FIPS be the key"
   ]
  },
  {
   "cell_type": "code",
   "execution_count": 6,
   "metadata": {},
   "outputs": [],
   "source": [
    "# Total; Estimate; Total population\n",
    "age[\"population\"] = pd.to_numeric(age[\"HC01_EST_VC01\"])\n",
    "# Total; Estimate; SELECTED AGE CATEGORIES - 62 years and over\n",
    "age[\"age 62+\"] = pd.to_numeric(age[\"HC01_EST_VC30\"], errors='coerce')\n",
    "# Total; Estimate; SELECTED AGE CATEGORIES - 15 to 44 years\n",
    "age[\"age 15-44\"] = pd.to_numeric(age[\"HC01_EST_VC26\"], errors='coerce')"
   ]
  },
  {
   "cell_type": "code",
   "execution_count": 7,
   "metadata": {},
   "outputs": [],
   "source": [
    "population = age[\"population\"]\n",
    "older = age[\"age 62+\"]\n",
    "younger = age[\"age 15-44\"]"
   ]
  },
  {
   "cell_type": "code",
   "execution_count": 8,
   "metadata": {},
   "outputs": [],
   "source": [
    "#pd.concat([population, ratio_16_60, ratio_60_plus], axis=1)"
   ]
  },
  {
   "cell_type": "markdown",
   "metadata": {},
   "source": [
    "# Education related information"
   ]
  },
  {
   "cell_type": "code",
   "execution_count": 9,
   "metadata": {},
   "outputs": [],
   "source": [
    "edu = pd.read_csv(\"/Users/xcheng/Documents/Oberlin/2019Fall/Econ417/myresearch/\"\n",
    "                  +\"OH_track_edu_16_ACS/ACS_16_5YR_S1501_with_ann.csv\",\n",
    "                 low_memory=False)"
   ]
  },
  {
   "cell_type": "code",
   "execution_count": 10,
   "metadata": {},
   "outputs": [],
   "source": [
    "edu.drop(0, inplace=True)\n",
    "edu.set_index(\"GEO.id2\", inplace = True) # let FIPS be the key"
   ]
  },
  {
   "cell_type": "code",
   "execution_count": 11,
   "metadata": {},
   "outputs": [],
   "source": [
    "# Percent; Estimate; Percent high school graduate or higher\n",
    "edu[\"high school+\"]= pd.to_numeric(edu[\"HC02_EST_VC17\"], errors='coerce')\n",
    "# Percent; Estimate; Percent bachelor's degree or higher\n",
    "edu[\"college+\"] = pd.to_numeric(edu[\"HC02_EST_VC18\"], errors='coerce')\n",
    "#\n",
    "edu[\"GED-college\"] = edu[\"high school+\"] - edu[\"college+\"] "
   ]
  },
  {
   "cell_type": "code",
   "execution_count": 12,
   "metadata": {},
   "outputs": [],
   "source": [
    "ratio_ged_25_plus = edu[\"GED-college\"]\n",
    "ratio_b_25_plu = edu[\"college+\"]"
   ]
  },
  {
   "cell_type": "code",
   "execution_count": 13,
   "metadata": {},
   "outputs": [],
   "source": [
    "#pd.concat([ratio_60_plus, ratio_ged_25_plus], axis=1)"
   ]
  },
  {
   "cell_type": "markdown",
   "metadata": {},
   "source": [
    "# Income related information"
   ]
  },
  {
   "cell_type": "code",
   "execution_count": 14,
   "metadata": {},
   "outputs": [],
   "source": [
    "income = pd.read_csv(\"/Users/xcheng/Documents/Oberlin/2019Fall/Econ417/myresearch/\"\n",
    "                     +\"OH_track_income_16_ACS/ACS_16_5YR_S1901_with_ann.csv\")"
   ]
  },
  {
   "cell_type": "code",
   "execution_count": 15,
   "metadata": {},
   "outputs": [],
   "source": [
    "income.drop(0, inplace=True)\n",
    "income.set_index(\"GEO.id2\", inplace = True) # let FIPS be the key"
   ]
  },
  {
   "cell_type": "code",
   "execution_count": 16,
   "metadata": {},
   "outputs": [],
   "source": [
    "# Households; Estimate; Less than $10,000\n",
    "income[\"income<10k\"]= pd.to_numeric(income[\"HC01_EST_VC02\"], errors='coerce')\n",
    "# Households; Estimate; $10,000 to $14,999\n",
    "income[\"10k<income<15k\"] = pd.to_numeric(income[\"HC01_EST_VC03\"], errors='coerce')\n",
    "# Households; Estimate; $15,000 to $24,999\n",
    "income[\"15k<income<25k\"] = pd.to_numeric(income[\"HC01_EST_VC04\"], errors='coerce')\n",
    "# Households; Estimate; $25,000 to $34,999\n",
    "income[\"25k<income<35k\"] = pd.to_numeric(income[\"HC01_EST_VC05\"], errors='coerce')\n",
    "# Households; Estimate; $35,000 to $49,999\n",
    "income[\"35k<income<50k\"] = pd.to_numeric(income[\"HC01_EST_VC06\"], errors='coerce')\n",
    "#\n",
    "income[\"poor\"] = (income[\"income<10k\"] + income[\"10k<income<15k\"] + income[\"15k<income<25k\"]\n",
    "                        + income[\"25k<income<35k\"] + income[\"35k<income<50k\"])\n",
    "# Households; Estimate; $150,000 to $199,999\n",
    "income[\"150k<income<200k\"] = pd.to_numeric(income[\"HC01_EST_VC10\"], errors='coerce')\n",
    "# Households; Estimate; $200,000 or more\n",
    "income[\"income>200k\"] = pd.to_numeric(income[\"HC01_EST_VC11\"], errors='coerce')\n",
    "#\n",
    "income[\"rich\"] = income[\"150k<income<200k\"] + income[\"income>200k\"]"
   ]
  },
  {
   "cell_type": "code",
   "execution_count": 17,
   "metadata": {},
   "outputs": [],
   "source": [
    "ratio_50k_less = income[\"poor\"]\n",
    "ratio_150k_plus = income[\"rich\"]"
   ]
  },
  {
   "cell_type": "code",
   "execution_count": 18,
   "metadata": {},
   "outputs": [],
   "source": [
    "# pd.concat([ratio_60_plus, ratio_ged_25_plus, ratio_50k_less], axis=1)"
   ]
  },
  {
   "cell_type": "markdown",
   "metadata": {},
   "source": [
    "# Race related information"
   ]
  },
  {
   "cell_type": "code",
   "execution_count": 19,
   "metadata": {},
   "outputs": [],
   "source": [
    "race = pd.read_csv(\"/Users/xcheng/Documents/Oberlin/2019Fall/Econ417/myresearch/\"+\n",
    "                   \"OH_track_race_16_ACS/ACS_16_5YR_B02001_with_ann.csv\")"
   ]
  },
  {
   "cell_type": "code",
   "execution_count": 20,
   "metadata": {},
   "outputs": [],
   "source": [
    "race.drop(0, inplace=True)\n",
    "race.set_index(\"GEO.id2\", inplace = True) # let FIPS be the key"
   ]
  },
  {
   "cell_type": "code",
   "execution_count": 21,
   "metadata": {},
   "outputs": [],
   "source": [
    "race[\"white\"] = pd.to_numeric(race[\"HD01_VD02\"]) / pd.to_numeric(race[\"HD01_VD01\"]) * 100\n",
    "race[\"black\"] = pd.to_numeric(race[\"HD01_VD03\"]) / pd.to_numeric(race[\"HD01_VD01\"]) * 100\n",
    "race[\"asian\"] = pd.to_numeric(race[\"HD01_VD05\"]) / pd.to_numeric(race[\"HD01_VD01\"]) * 100"
   ]
  },
  {
   "cell_type": "code",
   "execution_count": 22,
   "metadata": {},
   "outputs": [],
   "source": [
    "white = race[\"white\"]\n",
    "black = race[\"black\"]\n",
    "asian = race[\"asian\"]"
   ]
  },
  {
   "cell_type": "markdown",
   "metadata": {},
   "source": [
    "# Hispanic or latino related information"
   ]
  },
  {
   "cell_type": "code",
   "execution_count": 23,
   "metadata": {},
   "outputs": [],
   "source": [
    "latinx = pd.read_csv(\"/Users/xcheng/Documents/Oberlin/2019Fall/Econ417/myresearch/\"+\n",
    "                     \"OH_track_latinx_16_ACS/ACS_16_5YR_B03002_with_ann.csv\")"
   ]
  },
  {
   "cell_type": "code",
   "execution_count": 24,
   "metadata": {},
   "outputs": [],
   "source": [
    "latinx.drop(0, inplace=True)\n",
    "latinx.set_index(\"GEO.id2\", inplace = True) # let FIPS be the key"
   ]
  },
  {
   "cell_type": "code",
   "execution_count": 25,
   "metadata": {},
   "outputs": [],
   "source": [
    "latinx[\"latinx\"] = pd.to_numeric(latinx[\"HD01_VD12\"]) / pd.to_numeric(latinx[\"HD01_VD01\"]) * 100"
   ]
  },
  {
   "cell_type": "code",
   "execution_count": 26,
   "metadata": {},
   "outputs": [],
   "source": [
    "latinx_ratio = latinx[\"latinx\"]"
   ]
  },
  {
   "cell_type": "markdown",
   "metadata": {},
   "source": [
    "# Making output"
   ]
  },
  {
   "cell_type": "code",
   "execution_count": 27,
   "metadata": {},
   "outputs": [],
   "source": [
    "output = pd.concat([population, \n",
    "                   younger, older,\n",
    "                   ratio_ged_25_plus, ratio_b_25_plu,\n",
    "                   ratio_50k_less, ratio_150k_plus,\n",
    "                   white, black, asian, latinx_ratio], axis=1)"
   ]
  },
  {
   "cell_type": "code",
   "execution_count": 30,
   "metadata": {},
   "outputs": [],
   "source": [
    "output.to_csv(\"census_track_ACS_16_OH.csv\")"
   ]
  },
  {
   "cell_type": "code",
   "execution_count": null,
   "metadata": {},
   "outputs": [],
   "source": []
  }
 ],
 "metadata": {
  "kernelspec": {
   "display_name": "Python 3",
   "language": "python",
   "name": "python3"
  },
  "language_info": {
   "codemirror_mode": {
    "name": "ipython",
    "version": 3
   },
   "file_extension": ".py",
   "mimetype": "text/x-python",
   "name": "python",
   "nbconvert_exporter": "python",
   "pygments_lexer": "ipython3",
   "version": "3.6.5"
  }
 },
 "nbformat": 4,
 "nbformat_minor": 2
}
